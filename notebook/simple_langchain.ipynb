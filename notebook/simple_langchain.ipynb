{
 "cells": [
  {
   "cell_type": "code",
   "execution_count": null,
   "metadata": {
    "is_executing": true
   },
   "outputs": [],
   "source": [
    "%pip install langchain\n",
    "%pip install openai"
   ]
  },
  {
   "cell_type": "code",
   "execution_count": null,
   "metadata": {
    "collapsed": false
   },
   "outputs": [],
   "source": []
  },
  {
   "cell_type": "markdown",
   "metadata": {},
   "source": [
    "创建一个基于 openai 的大语言模型"
   ]
  },
  {
   "cell_type": "code",
   "execution_count": 15,
   "metadata": {},
   "outputs": [],
   "source": [
    "from langchain import OpenAI\n",
    "import openai\n",
    "llm = OpenAI(\n",
    "    temperature=0,\n",
    "\topenai_api_key='<OPENAI-API-KEY>',\n",
    "\tmodel_name=\"text-davinci-003\"\n",
    ")"
   ]
  },
  {
   "cell_type": "markdown",
   "metadata": {},
   "source": [
    "定义一个回调用于展示每次调用详情"
   ]
  },
  {
   "cell_type": "code",
   "execution_count": 20,
   "metadata": {},
   "outputs": [],
   "source": [
    "from langchain.callbacks import get_openai_callback\n",
    "def track_tokens_usage(llm, query):\n",
    "    with get_openai_callback() as cb:\n",
    "        result = llm(query)\n",
    "        print(f\"Total Tokens: {cb.total_tokens}\")\n",
    "        print(f\"Prompt Tokens: {cb.prompt_tokens}\")\n",
    "        print(f\"Completion Tokens: {cb.completion_tokens}\")\n",
    "        print(f\"Successful Requests: {cb.successful_requests}\")\n",
    "        print(f\"Total Cost (USD): ${cb.total_cost}\")\n",
    "\n",
    "    return result\n",
    "\n",
    "def chain_tokens_usage(chain, query):\n",
    "    with get_openai_callback() as cb:\n",
    "        result = chain.run(query)\n",
    "        print(f\"Total Tokens: {cb.total_tokens}\")\n",
    "        print(f\"Prompt Tokens: {cb.prompt_tokens}\")\n",
    "        print(f\"Completion Tokens: {cb.completion_tokens}\")\n",
    "        print(f\"Successful Requests: {cb.successful_requests}\")\n",
    "        print(f\"Total Cost (USD): ${cb.total_cost}\")\n",
    "\n",
    "    return result"
   ]
  },
  {
   "cell_type": "code",
   "execution_count": 19,
   "metadata": {},
   "outputs": [
    {
     "name": "stdout",
     "output_type": "stream",
     "text": [
      "Total Tokens: 265\n",
      "Prompt Tokens: 10\n",
      "Completion Tokens: 255\n",
      "Successful Requests: 1\n",
      "Total Cost (USD): $0.0053\n"
     ]
    },
    {
     "data": {
      "text/plain": [
       "'\\n\\n1. 首先，需要在网站上注册一个账号，并登录。\\n\\n2. 然后，可以在网站上搜索想要学习的语言，并选择一个课程。\\n\\n3. 接下来，可以开始学习课程，每个课程都有一系列的课程任务，可以根据自己的需要来完成。\\n\\n4. 完成课程任务后，可以在网站上查看自己的学习'"
      ]
     },
     "execution_count": 19,
     "metadata": {},
     "output_type": "execute_result"
    }
   ],
   "source": [
    "track_tokens_usage(llm,\"如何使用 langchain \")"
   ]
  },
  {
   "cell_type": "markdown",
   "metadata": {},
   "source": [
    "以上为一次简单的调用, 并通过回调函数( track_tokens_usage) 获取到一次调用的消耗量, \n",
    "这种使用,不具备理解上下文的能力,  \n",
    "通过 openai接口调用, 如果想实现理解上下文的能力, 就需要在提交新的对话的时候,需要一起送入之前已经提交的问题以及答案\n",
    "这里面涉及到一下几个类  都是 基于内存的上下文理解 \n",
    "1. Buffer 相关指代是不进行摘要处理 简单除暴的进行上下文拼接, \n",
    "2. Summary 会对上文所有的内容进行摘要处理, 只记录摘要信息\n",
    "```\n",
    "ConversationSummaryMemory 会对问答进行摘要处理 由于会请求生产摘要处理所以会请求两次接口\n",
    "ConversationBufferMemory  记录原始的请求内容 , 不进行摘要处理,  之请求一次内容\n",
    "ConversationBufferWindowMemory\n",
    "ConversationSummaryBufferMemory\n",
    "```"
   ]
  },
  {
   "cell_type": "code",
   "execution_count": 21,
   "metadata": {},
   "outputs": [],
   "source": [
    "from langchain.memory import ConversationBufferMemory, ConversationSummaryMemory\n",
    "from langchain.chains import ConversationChain\n",
    "\n",
    "conversation = ConversationChain(llm=llm, memory = ConversationBufferMemory())\n"
   ]
  },
  {
   "cell_type": "code",
   "execution_count": 22,
   "metadata": {},
   "outputs": [
    {
     "name": "stdout",
     "output_type": "stream",
     "text": [
      "Total Tokens: 162\n",
      "Prompt Tokens: 72\n",
      "Completion Tokens: 90\n",
      "Successful Requests: 1\n",
      "Total Cost (USD): $0.00324\n"
     ]
    },
    {
     "data": {
      "text/plain": [
       "' 是的，今天的天气真是太棒了！我喜欢这种晴朗的天气，它让我感觉很放松。你有什么打算吗？'"
      ]
     },
     "execution_count": 22,
     "metadata": {},
     "output_type": "execute_result"
    }
   ],
   "source": [
    "chain_tokens_usage(conversation,\"今天天气不错\")"
   ]
  },
  {
   "cell_type": "markdown",
   "metadata": {},
   "source": [
    "打印缓存内容"
   ]
  },
  {
   "cell_type": "code",
   "execution_count": 23,
   "metadata": {},
   "outputs": [
    {
     "name": "stdout",
     "output_type": "stream",
     "text": [
      "Human: 今天天气不错\n",
      "AI:  是的，今天的天气真是太棒了！我喜欢这种晴朗的天气，它让我感觉很放松。你有什么打算吗？\n"
     ]
    }
   ],
   "source": [
    "print(conversation.memory.buffer)"
   ]
  },
  {
   "cell_type": "code",
   "execution_count": 24,
   "metadata": {},
   "outputs": [
    {
     "name": "stdout",
     "output_type": "stream",
     "text": [
      "Total Tokens: 298\n",
      "Prompt Tokens: 185\n",
      "Completion Tokens: 113\n",
      "Successful Requests: 1\n",
      "Total Cost (USD): $0.00596\n"
     ]
    },
    {
     "data": {
      "text/plain": [
       "' 嗯，我建议你可以去散步，或者去公园野餐，或者去海边放松一下。你可以做任何你喜欢的事情，只要你感到开心就好。'"
      ]
     },
     "execution_count": 24,
     "metadata": {},
     "output_type": "execute_result"
    }
   ],
   "source": [
    "chain_tokens_usage(conversation,\"你有什么建议吗\")"
   ]
  },
  {
   "cell_type": "code",
   "execution_count": 25,
   "metadata": {},
   "outputs": [
    {
     "name": "stdout",
     "output_type": "stream",
     "text": [
      "Human: 今天天气不错\n",
      "AI:  是的，今天的天气真是太棒了！我喜欢这种晴朗的天气，它让我感觉很放松。你有什么打算吗？\n",
      "Human: 你有什么建议吗\n",
      "AI:  嗯，我建议你可以去散步，或者去公园野餐，或者去海边放松一下。你可以做任何你喜欢的事情，只要你感到开心就好。\n"
     ]
    }
   ],
   "source": [
    "print(conversation.memory.buffer)"
   ]
  },
  {
   "cell_type": "code",
   "execution_count": 26,
   "metadata": {},
   "outputs": [
    {
     "name": "stdout",
     "output_type": "stream",
     "text": [
      "Total Tokens: 455\n",
      "Prompt Tokens: 327\n",
      "Completion Tokens: 128\n",
      "Successful Requests: 2\n",
      "Total Cost (USD): $0.0091\n",
      "Total Tokens: 617\n",
      "Prompt Tokens: 438\n",
      "Completion Tokens: 179\n",
      "Successful Requests: 2\n",
      "Total Cost (USD): $0.01234\n",
      "\n",
      "The human commented on the nice weather and the AI agreed, saying it was a great day and that it made them feel relaxed. The AI then asked the human what their plans were and suggested going for a walk, visiting a park, or looking at the scenery around them. The human asked if the AI had any other suggestions.\n"
     ]
    }
   ],
   "source": [
    "conversationSu = ConversationChain(llm=llm, memory = ConversationSummaryMemory(llm=llm))\n",
    "chain_tokens_usage(conversationSu,\"今天天气不错\")\n",
    "print(conversationSu.memory.buffer)"
   ]
  },
  {
   "cell_type": "code",
   "execution_count": 28,
   "metadata": {},
   "outputs": [
    {
     "name": "stdout",
     "output_type": "stream",
     "text": [
      "Total Tokens: 427\n",
      "Prompt Tokens: 328\n",
      "Completion Tokens: 99\n",
      "Successful Requests: 2\n",
      "Total Cost (USD): $0.008539999999999999\n",
      "\n",
      "The human asked the AI a question in Chinese about the weather. The AI responded that the weather was great and it was a perfect day for a walk.\n"
     ]
    }
   ],
   "source": [
    "conversationSu1 = ConversationChain(llm=llm, memory = ConversationSummaryMemory(llm=llm))\n",
    "chain_tokens_usage(conversationSu1,\"今天天气不错,返回中文回答\")\n",
    "print(conversationSu1.memory.buffer)"
   ]
  },
  {
   "cell_type": "code",
   "execution_count": null,
   "metadata": {},
   "outputs": [],
   "source": [
    "chain_tokens_usage(conversationSu1,\"你有什么建议吗\")\n",
    "print(conversationSu1.memory.buffer)"
   ]
  }
 ],
 "metadata": {
  "kernelspec": {
   "display_name": "Python 3",
   "language": "python",
   "name": "python3"
  },
  "language_info": {
   "codemirror_mode": {
    "name": "ipython",
    "version": 3
   },
   "file_extension": ".py",
   "mimetype": "text/x-python",
   "name": "python",
   "nbconvert_exporter": "python",
   "pygments_lexer": "ipython3",
   "version": "3.10.12"
  },
  "orig_nbformat": 4
 },
 "nbformat": 4,
 "nbformat_minor": 2
}
